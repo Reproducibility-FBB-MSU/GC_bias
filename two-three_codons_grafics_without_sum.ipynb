{
 "cells": [
  {
   "cell_type": "markdown",
   "metadata": {},
   "source": [
    "Данный скрипт строит график зависимости частот встречаемости конкретных групп кодонов от GC3 (кодоны из одной группы на одном графике) (скаттерплот + loess аппроксимация + модель)"
   ]
  },
  {
   "cell_type": "code",
   "execution_count": null,
   "metadata": {},
   "outputs": [],
   "source": [
    "import seaborn as sns\n",
    "import matplotlib as mpl\n",
    "import matplotlib.pyplot as plt\n",
    "import pandas as pd\n",
    "import numpy as np\n",
    "from loess_1d import loess_1d\n",
    "from model_definer import y_model"
   ]
  },
  {
   "cell_type": "markdown",
   "metadata": {},
   "source": [
    "codons - вложенный список содержащий группы кодонов принадлежащий к одной аминокислоте и обладающие одним предполагаемым типом зависимости от GC3"
   ]
  },
  {
   "cell_type": "code",
   "execution_count": null,
   "metadata": {},
   "outputs": [],
   "source": [
    "codons=[[\"GCU\", \"GCA\"], [\"GCC\", \"GCG\"], [\"AUU\", \"AUA\"], [\"CGC\", \"CGG\"], [\"CGU\", \"CGA\", \"AGG\"], [\"CUC\", \"CUG\"], [\"CUU\", \"CUA\", \"UUG\"], [\"GGU\", \"GGA\"], [\"GGC\", \"GGG\"]]"
   ]
  },
  {
   "cell_type": "markdown",
   "metadata": {},
   "source": [
    "datafile - файл с исходными данными в данном случае для бактерий с относительными частотами кодонов"
   ]
  },
  {
   "cell_type": "code",
   "execution_count": null,
   "metadata": {},
   "outputs": [],
   "source": [
    "datafile = \"df_proc_relfreq.csv\"\n",
    "df = pd.read_csv(datafile, sep = \",\", index_col = 0)"
   ]
  },
  {
   "cell_type": "markdown",
   "metadata": {},
   "source": [
    "у - частоты встречаемости кодонов из одной группы xout, yout - выдача координат точек полученных при помощи loess аппроксимации y_mod - искуственно сгенерированные согласно модели засисимости частоты кодона от GC3 частоты кодонов, в роли GC3 выступает x_mod"
   ]
  },
  {
   "cell_type": "code",
   "execution_count": null,
   "metadata": {},
   "outputs": [],
   "source": [
    "for subgroup in codons:\n",
    "    for codon in subgroup:\n",
    "        y = np.array(df[codon])\n",
    "        x = np.array(df[\"gc_fraction\"])\n",
    "        width, height = 10, 10\n",
    "        mpl.rcParams['figure.figsize'] = [width, height]\n",
    "        sns.scatterplot(x, y, data=df, s=20, alpha=0.5)\n",
    "        xout, yout, wout = loess_1d(x, y, frac=1, degree=2)\n",
    "        sns.lineplot(xout, yout)\n",
    "        plt.xticks(size=15, weight='bold')\n",
    "        plt.yticks(size=15, weight='bold')\n",
    "        x_mod = np.linspace(start = 0, stop = 1, num = 1000)\n",
    "        y_mod = y_model(codon)\n",
    "    sns.lineplot(x_mod, y_mod, linestyle = '--', color = 'red')\n",
    "    plt.title('\\n'.join(subgroup), size=30)\n",
    "    plt.figure()"
   ]
  }
 ],
 "metadata": {
  "kernelspec": {
   "display_name": "Python 3",
   "language": "python",
   "name": "python3"
  },
  "language_info": {
   "codemirror_mode": {
    "name": "ipython",
    "version": 3
   },
   "file_extension": ".py",
   "mimetype": "text/x-python",
   "name": "python",
   "nbconvert_exporter": "python",
   "pygments_lexer": "ipython3",
   "version": "3.7.1"
  }
 },
 "nbformat": 4,
 "nbformat_minor": 2
}
