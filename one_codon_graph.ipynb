{
 "cells": [
  {
   "cell_type": "code",
   "execution_count": null,
   "metadata": {},
   "outputs": [],
   "source": [
    "import seaborn as sns\n",
    "import matplotlib as mpl\n",
    "import matplotlib.pyplot as plt\n",
    "import pandas as pd\n",
    "import numpy as np\n",
    "from model_definer import y_model\n",
    "from loess_1d import loess_1d\n",
    "\n",
    "\n",
    "codons = [\"AAU\", \"AAC\", \"AUC\", \"AGA\", \"UUA\"]\n",
    "for codon in codons:\n",
    "    df = pd.read_csv(\"df_plant_relfreq.csv\", sep = \",\", index_col = 0)\n",
    "    y = np.array(df[codon])         # по оси Оу - GC3 для данного кодона\n",
    "    x = np.array(df[\"gc_fraction\"]) # по оси Ох - GC состав генома\n",
    "    width, height = 10, 10\n",
    "    mpl.rcParams['figure.figsize'] = [width, height]\n",
    "    sns.scatterplot(x, y, data = df, s = 20, alpha = 0.5)   # строим точечный график GC от GC3\n",
    "    xout, yout, wout = loess_1d(x, y, frac = 1, degree = 2) # добавляем loess-аппроксимацию\n",
    "    sns.lineplot(xout, yout)\n",
    "    x_mod = np.linspace(start = 0, stop = 1, num = 1000)   # предполагаемая моделью зависимость строится по 1000 точек\n",
    "    y_mod = y_model(codon)                                 # тип звисимости определяется по кодону отдельной функцией y_model (импортируется из файла model_definer.ipynb)\n",
    "    sns.lineplot(x_mod, y_mod, linestyle = '--', color = 'red')   # на тот же график добавляем предполагаемую моделью зависимость\n",
    "    plt.title(codon, size=30)\n",
    "    plt.xticks(size=15, weight='bold')\n",
    "    plt.yticks(size=15, weight='bold')\n",
    "    plt.figure() "
   ]
  }
 ],
 "metadata": {
  "kernelspec": {
   "display_name": "Python 3",
   "language": "python",
   "name": "python3"
  },
  "language_info": {
   "codemirror_mode": {
    "name": "ipython",
    "version": 3
   },
   "file_extension": ".py",
   "mimetype": "text/x-python",
   "name": "python",
   "nbconvert_exporter": "python",
   "pygments_lexer": "ipython3",
   "version": "3.7.3"
  }
 },
 "nbformat": 4,
 "nbformat_minor": 2
}
