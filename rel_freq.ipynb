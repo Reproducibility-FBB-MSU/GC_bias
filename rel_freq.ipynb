{
 "cells": [
  {
   "cell_type": "markdown",
   "metadata": {},
   "source": [
    "Данная функция принимает на вход количества кодонов и возвращает словарь с частотами кодонов внутри группы синонимичных, стоп-кодонам присваивается значение 1"
   ]
  },
  {
   "cell_type": "markdown",
   "metadata": {},
   "source": [
    "    1) tab_dict - словарь содержащий соответствие между кодоном и аминокислотой\n",
    "    2) aa - множество аминокислот\n",
    "    3) stopdict - словарь где записаны стоп кодоны с их значением по умолчанию - 1"
   ]
  },
  {
   "cell_type": "code",
   "execution_count": 8,
   "metadata": {},
   "outputs": [],
   "source": [
    "import Bio.Data.CodonTable\n",
    "import pandas as pd\n",
    "import numpy as np\n",
    "table = Bio.Data.CodonTable.unambiguous_rna_by_id[11]\n",
    "tab_dict = table.forward_table\n",
    "aa = set(tab_dict.values())\n",
    "stopdict={elem : float(1) for elem in table.stop_codons}\n",
    "def relfreq(data):\n",
    "    resp={}\n",
    "    for aminoacid in aa:\n",
    "        codons = [elem for elem in tab_dict if tab_dict[elem] == aminoacid]\n",
    "        sumcodon = float(sum([float(data[codon]) for codon in codons])) if float(sum([float(data[codon]) for codon in codons]))!=0 else 1.0\n",
    "        for codon in codons:\n",
    "            resp[codon] = float(data[codon])/sumcodon\n",
    "    resp.update(stopdict)\n",
    "    return(resp)"
   ]
  },
  {
   "cell_type": "code",
   "execution_count": null,
   "metadata": {},
   "outputs": [],
   "source": []
  }
 ],
 "metadata": {
  "kernelspec": {
   "display_name": "Python 3",
   "language": "python",
   "name": "python3"
  },
  "language_info": {
   "codemirror_mode": {
    "name": "ipython",
    "version": 3
   },
   "file_extension": ".py",
   "mimetype": "text/x-python",
   "name": "python",
   "nbconvert_exporter": "python",
   "pygments_lexer": "ipython3",
   "version": "3.7.1"
  }
 },
 "nbformat": 4,
 "nbformat_minor": 2
}
