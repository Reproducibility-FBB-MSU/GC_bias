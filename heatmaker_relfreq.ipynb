{
 "cells": [
  {
   "cell_type": "code",
   "execution_count": 24,
   "metadata": {
    "scrolled": true
   },
   "outputs": [],
   "source": [
    "import pandas as pd\n",
    "import numpy as np\n",
    "import seaborn as sns\n",
    "import matplotlib as mpl"
   ]
  },
  {
   "cell_type": "markdown",
   "metadata": {},
   "source": [
    "datafile - имя файла из которого мы хотим брать частоты кодонов"
   ]
  },
  {
   "cell_type": "code",
   "execution_count": 29,
   "metadata": {},
   "outputs": [],
   "source": [
    "datafile=\"df_plant.csv\""
   ]
  },
  {
   "cell_type": "markdown",
   "metadata": {},
   "source": [
    "priority - словарь, содержащий последовательность букв, согласно порядку которых удобнее всего отсортировать кодоны"
   ]
  },
  {
   "cell_type": "code",
   "execution_count": 26,
   "metadata": {},
   "outputs": [],
   "source": [
    "priority=[\"A\",\"T\",\"C\",\"G\"]"
   ]
  },
  {
   "cell_type": "markdown",
   "metadata": {},
   "source": [
    "1) Считываем файл с частотами кодонов\n",
    "2) Вырожденным (соответствующим одной аминокислоте) и стоп - кодонам ( список - unmutable) присваиваем константные значения, чтобы получить нулевой коэффицент корреляции. (так делалось в статье чтобы не акцентировать внимание на этих кодонах)\n",
    "3) Создаем словарь corr_coef содержащий кодоны и их коэффиценты корреляции с GC3\n",
    "4) Конвертируем словарь в датафрейм (corr_coef), удаляем коэффицент корреляции для gc_fraction (он не имеет смысла и равен 1)"
   ]
  },
  {
   "cell_type": "code",
   "execution_count": 27,
   "metadata": {},
   "outputs": [],
   "source": [
    "df=pd.read_csv(datafile, index_col=0)\n",
    "unmutable=[\"UGA\",\"UAG\",\"UAA\",\"AUG\",\"UGG\"]\n",
    "for elem in unmutable:\n",
    "    df[elem]=np.full_like(df[elem],1.0)\n",
    "corr_coef={key.replace(\"U\",\"T\") : np.corrcoef([df[key],df[\"gc_fraction\"]])[0,1] for key in df.columns}\n",
    "corr_coef=pd.DataFrame(pd.Series(corr_coef))\n",
    "corr_coef=corr_coef.drop(\"gc_fraction\")"
   ]
  },
  {
   "cell_type": "markdown",
   "metadata": {},
   "source": [
    "1) Сортируем кодоны согласно индексу букв в priority, сортированные кодоны записываем в список codon_names\n",
    "2) Конвертируем датафрейм corr_coef в матрицу, содерщащую коэффиценты корреляций\n",
    "3) Создаем список из первых двух букв кодонов - ind\n",
    "4) Создаем датафрейм готовый для подачи в sns.heatmap() из матрицы коэффицентов корреляций и подписей к вертикальным и горизонтальным осям матрицы - ind и priority соответственно"
   ]
  },
  {
   "cell_type": "code",
   "execution_count": 28,
   "metadata": {},
   "outputs": [
    {
     "data": {
      "text/plain": [
       "<matplotlib.axes._subplots.AxesSubplot at 0x7f0618363390>"
      ]
     },
     "execution_count": 28,
     "metadata": {},
     "output_type": "execute_result"
    },
    {
     "data": {
      "image/png": "[encoded data removed]",
      "text/plain": [
       "<Figure size 720x720 with 2 Axes>"
      ]
     },
     "metadata": {},
     "output_type": "display_data"
    }
   ],
   "source": [
    "codon_names=sorted(list(corr_coef.index), key=lambda x: priority.index(x[0])*100+priority.index(x[1])*10+priority.index(x[2])*1)\n",
    "corr_coef=[corr_coef.loc[elem] for elem in codon_names]\n",
    "corr_coef=np.array(corr_coef).reshape(16,4)\n",
    "codon_names=np.array(codon_names).reshape(16,4)\n",
    "ind=[elem[0:2] for elem in codon_names[:,0]]\n",
    "corr_coef=pd.DataFrame(data=corr_coef, index=ind, columns=priority)\n",
    "width, height = 10, 10\n",
    "mpl.rcParams['figure.figsize'] = [width, height]\n",
    "sns.set()\n",
    "sns.heatmap(corr_coef)"
   ]
  },
  {
   "cell_type": "code",
   "execution_count": null,
   "metadata": {},
   "outputs": [],
   "source": []
  }
 ],
 "metadata": {
  "kernelspec": {
   "display_name": "Python 3",
   "language": "python",
   "name": "python3"
  },
  "language_info": {
   "codemirror_mode": {
    "name": "ipython",
    "version": 3
   },
   "file_extension": ".py",
   "mimetype": "text/x-python",
   "name": "python",
   "nbconvert_exporter": "python",
   "pygments_lexer": "ipython3",
   "version": "3.7.1"
  }
 },
 "nbformat": 4,
 "nbformat_minor": 2
}
