{
 "cells": [
  {
   "cell_type": "markdown",
   "metadata": {},
   "source": [
    "Эта функция возвращает numpy array соответствующий модельной зависимости частоты используемости кодона от GC состава"
   ]
  },
  {
   "cell_type": "code",
   "execution_count": null,
   "metadata": {},
   "outputs": [],
   "source": [
    "import numpy as np\n",
    "def y_model(codon):\n",
    "    codon = codon.replace('U', 'T')\n",
    "    # создаём вектор значений по будущей оси x (равномерно на отрезке 0-1). 1000 - размерность вектора, случаное большое число.\n",
    "    x_model = np.linspace(start = 0, stop = 1, num = 1000)\n",
    "    one = np.full((1000, ), 1, dtype = \"float\")\n",
    "    # Создаём списки, содержащие кодоны аминокислот, кодирующиеся двумя или четырьмя кодонами.\n",
    "    # Серин кодируется шестью кодонами. Четыре из них начинаются с одного динуклеотида, поэтому относятся к списку four_codon,\n",
    "    # другие два начинаются с другого динуклеотида и относятся к списку two_codon.\n",
    "    two_codon = ['AGT', 'AGC', 'TTT', 'TTC', 'TTA', 'TTG', 'TAT', \n",
    "                 'TAC', 'TGT', 'TGC', 'CAT', 'CAC', 'CAG', 'CAA', \n",
    "                 'AAT', 'AAC', 'AAA', 'AAG', 'GAT', 'GAC', 'GAA', 'GAG']    \n",
    "                # Ser2, Phe, Leu, Tyr, Cys, His, Gln, Asn, Lys\n",
    "    four_codon = ['TCT', 'TCC', 'TCA', 'TCG', # Ser4\n",
    "                  'CTT', 'CTA', 'CTG', 'CTC', # Leu\n",
    "                  'CCT', 'CCA', 'CCG', 'CCC', # Pro\n",
    "                  'ACT', 'ACC', 'ACA', 'ACG', # Thr\n",
    "                  'GTT', 'GTC', 'GTA', 'GTG', # Val\n",
    "                  'GCT', 'GCC', 'GCA', 'GCG', # Ala\n",
    "                  'GGT', 'GGC', 'GGA', 'GGG'] # Gly\n",
    "    \n",
    "    Далее функция возвращает вектор со значениями по оси Oy зависимости, предполагаемой для данного типа кодонов.\n",
    "    if codon in ['CGG', 'CGC', 'CTG', 'CTC']:\n",
    "        return x_model * x_model / (one + x_model)\n",
    "    elif codon in ['CGA', 'CGT', 'AGG', 'CTA', 'CTT', 'TTG']:\n",
    "        return x_model * (one - x_model) / (one + x_model)\n",
    "    elif codon in ['AGA', 'TTA']:\n",
    "        return (one - x_model) * (one - x_model) / (one + x_model)\n",
    "    elif codon == 'ATC':\n",
    "        return (x_model / (one + one - x_model))\n",
    "    elif codon in ['ATA', 'ATT']:\n",
    "        return (one - x_model) / (one + one - x_model)\n",
    "    elif (codon[2] in ['A', 'T']) and (codon in four_codon):\n",
    "        return (one - x_model) / 2\n",
    "    elif (codon[2] in ['C', 'G']) and (codon in four_codon):\n",
    "        return x_model / 2\n",
    "    elif (codon[2] in ['A', 'T']) and (codon in two_codon):\n",
    "        return one - x_model\n",
    "    elif (codon[2] in ['C', 'G']) and (codon in two_codon):\n",
    "        return x_model\n",
    "    else:               # 3 * stop + one_codon(Met, Trp)\n",
    "        return 'stop'"
   ]
  }
 ],
 "metadata": {
  "kernelspec": {
   "display_name": "Python 3",
   "language": "python",
   "name": "python3"
  },
  "language_info": {
   "codemirror_mode": {
    "name": "ipython",
    "version": 3
   },
   "file_extension": ".py",
   "mimetype": "text/x-python",
   "name": "python",
   "nbconvert_exporter": "python",
   "pygments_lexer": "ipython3",
   "version": "3.7.1"
  }
 },
 "nbformat": 4,
 "nbformat_minor": 2
}
